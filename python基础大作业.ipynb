{
 "cells": [
  {
   "cell_type": "code",
   "execution_count": 1,
   "metadata": {},
   "outputs": [],
   "source": [
    "import pandas as pd\n",
    "import time,datetime"
   ]
  },
  {
   "cell_type": "markdown",
   "metadata": {},
   "source": [
    "#### 加载数据"
   ]
  },
  {
   "cell_type": "code",
   "execution_count": 24,
   "metadata": {},
   "outputs": [],
   "source": [
    "tags = pd.read_csv('E:\\\\Desktop\\\\ml-25m\\\\tags.csv')  # 用户给电影打的标签\n",
    "ratings = pd.read_csv('E:\\\\Desktop\\\\ml-25m\\\\ratings.csv') # 用户给电影的评分\n",
    "movies = pd.read_csv('E:\\\\Desktop\\\\ml-25m\\\\movies.csv') # 电影信息\n",
    "links = pd.read_csv('E:\\\\Desktop\\\\ml-25m\\\\links.csv') # 电影链接到其他资源"
   ]
  },
  {
   "cell_type": "code",
   "execution_count": 3,
   "metadata": {},
   "outputs": [
    {
     "data": {
      "text/html": [
       "<div>\n",
       "<style scoped>\n",
       "    .dataframe tbody tr th:only-of-type {\n",
       "        vertical-align: middle;\n",
       "    }\n",
       "\n",
       "    .dataframe tbody tr th {\n",
       "        vertical-align: top;\n",
       "    }\n",
       "\n",
       "    .dataframe thead th {\n",
       "        text-align: right;\n",
       "    }\n",
       "</style>\n",
       "<table border=\"1\" class=\"dataframe\">\n",
       "  <thead>\n",
       "    <tr style=\"text-align: right;\">\n",
       "      <th></th>\n",
       "      <th>userId</th>\n",
       "      <th>movieId</th>\n",
       "      <th>tag</th>\n",
       "      <th>timestamp</th>\n",
       "    </tr>\n",
       "  </thead>\n",
       "  <tbody>\n",
       "    <tr>\n",
       "      <th>1093355</th>\n",
       "      <td>162521</td>\n",
       "      <td>66934</td>\n",
       "      <td>Neil Patrick Harris</td>\n",
       "      <td>1427311611</td>\n",
       "    </tr>\n",
       "    <tr>\n",
       "      <th>1093356</th>\n",
       "      <td>162521</td>\n",
       "      <td>103341</td>\n",
       "      <td>cornetto trilogy</td>\n",
       "      <td>1427311259</td>\n",
       "    </tr>\n",
       "    <tr>\n",
       "      <th>1093357</th>\n",
       "      <td>162534</td>\n",
       "      <td>189169</td>\n",
       "      <td>comedy</td>\n",
       "      <td>1527518175</td>\n",
       "    </tr>\n",
       "    <tr>\n",
       "      <th>1093358</th>\n",
       "      <td>162534</td>\n",
       "      <td>189169</td>\n",
       "      <td>disabled</td>\n",
       "      <td>1527518181</td>\n",
       "    </tr>\n",
       "    <tr>\n",
       "      <th>1093359</th>\n",
       "      <td>162534</td>\n",
       "      <td>189169</td>\n",
       "      <td>robbery</td>\n",
       "      <td>1527518193</td>\n",
       "    </tr>\n",
       "  </tbody>\n",
       "</table>\n",
       "</div>"
      ],
      "text/plain": [
       "         userId  movieId                  tag   timestamp\n",
       "1093355  162521    66934  Neil Patrick Harris  1427311611\n",
       "1093356  162521   103341     cornetto trilogy  1427311259\n",
       "1093357  162534   189169               comedy  1527518175\n",
       "1093358  162534   189169             disabled  1527518181\n",
       "1093359  162534   189169              robbery  1527518193"
      ]
     },
     "execution_count": 3,
     "metadata": {},
     "output_type": "execute_result"
    }
   ],
   "source": [
    "tags.tail()"
   ]
  },
  {
   "cell_type": "code",
   "execution_count": 4,
   "metadata": {},
   "outputs": [
    {
     "data": {
      "text/html": [
       "<div>\n",
       "<style scoped>\n",
       "    .dataframe tbody tr th:only-of-type {\n",
       "        vertical-align: middle;\n",
       "    }\n",
       "\n",
       "    .dataframe tbody tr th {\n",
       "        vertical-align: top;\n",
       "    }\n",
       "\n",
       "    .dataframe thead th {\n",
       "        text-align: right;\n",
       "    }\n",
       "</style>\n",
       "<table border=\"1\" class=\"dataframe\">\n",
       "  <thead>\n",
       "    <tr style=\"text-align: right;\">\n",
       "      <th></th>\n",
       "      <th>userId</th>\n",
       "      <th>movieId</th>\n",
       "      <th>rating</th>\n",
       "      <th>timestamp</th>\n",
       "    </tr>\n",
       "  </thead>\n",
       "  <tbody>\n",
       "    <tr>\n",
       "      <th>25000090</th>\n",
       "      <td>162541</td>\n",
       "      <td>50872</td>\n",
       "      <td>4.5</td>\n",
       "      <td>1240953372</td>\n",
       "    </tr>\n",
       "    <tr>\n",
       "      <th>25000091</th>\n",
       "      <td>162541</td>\n",
       "      <td>55768</td>\n",
       "      <td>2.5</td>\n",
       "      <td>1240951998</td>\n",
       "    </tr>\n",
       "    <tr>\n",
       "      <th>25000092</th>\n",
       "      <td>162541</td>\n",
       "      <td>56176</td>\n",
       "      <td>2.0</td>\n",
       "      <td>1240950697</td>\n",
       "    </tr>\n",
       "    <tr>\n",
       "      <th>25000093</th>\n",
       "      <td>162541</td>\n",
       "      <td>58559</td>\n",
       "      <td>4.0</td>\n",
       "      <td>1240953434</td>\n",
       "    </tr>\n",
       "    <tr>\n",
       "      <th>25000094</th>\n",
       "      <td>162541</td>\n",
       "      <td>63876</td>\n",
       "      <td>5.0</td>\n",
       "      <td>1240952515</td>\n",
       "    </tr>\n",
       "  </tbody>\n",
       "</table>\n",
       "</div>"
      ],
      "text/plain": [
       "          userId  movieId  rating   timestamp\n",
       "25000090  162541    50872     4.5  1240953372\n",
       "25000091  162541    55768     2.5  1240951998\n",
       "25000092  162541    56176     2.0  1240950697\n",
       "25000093  162541    58559     4.0  1240953434\n",
       "25000094  162541    63876     5.0  1240952515"
      ]
     },
     "execution_count": 4,
     "metadata": {},
     "output_type": "execute_result"
    }
   ],
   "source": [
    "ratings.tail()"
   ]
  },
  {
   "cell_type": "code",
   "execution_count": 25,
   "metadata": {},
   "outputs": [
    {
     "data": {
      "text/html": [
       "<div>\n",
       "<style scoped>\n",
       "    .dataframe tbody tr th:only-of-type {\n",
       "        vertical-align: middle;\n",
       "    }\n",
       "\n",
       "    .dataframe tbody tr th {\n",
       "        vertical-align: top;\n",
       "    }\n",
       "\n",
       "    .dataframe thead th {\n",
       "        text-align: right;\n",
       "    }\n",
       "</style>\n",
       "<table border=\"1\" class=\"dataframe\">\n",
       "  <thead>\n",
       "    <tr style=\"text-align: right;\">\n",
       "      <th></th>\n",
       "      <th>movieId</th>\n",
       "      <th>imdbId</th>\n",
       "      <th>tmdbId</th>\n",
       "    </tr>\n",
       "  </thead>\n",
       "  <tbody>\n",
       "    <tr>\n",
       "      <th>62418</th>\n",
       "      <td>209157</td>\n",
       "      <td>6671244</td>\n",
       "      <td>499546.0</td>\n",
       "    </tr>\n",
       "    <tr>\n",
       "      <th>62419</th>\n",
       "      <td>209159</td>\n",
       "      <td>297986</td>\n",
       "      <td>63407.0</td>\n",
       "    </tr>\n",
       "    <tr>\n",
       "      <th>62420</th>\n",
       "      <td>209163</td>\n",
       "      <td>6755366</td>\n",
       "      <td>553036.0</td>\n",
       "    </tr>\n",
       "    <tr>\n",
       "      <th>62421</th>\n",
       "      <td>209169</td>\n",
       "      <td>249603</td>\n",
       "      <td>162892.0</td>\n",
       "    </tr>\n",
       "    <tr>\n",
       "      <th>62422</th>\n",
       "      <td>209171</td>\n",
       "      <td>55323</td>\n",
       "      <td>79513.0</td>\n",
       "    </tr>\n",
       "  </tbody>\n",
       "</table>\n",
       "</div>"
      ],
      "text/plain": [
       "       movieId   imdbId    tmdbId\n",
       "62418   209157  6671244  499546.0\n",
       "62419   209159   297986   63407.0\n",
       "62420   209163  6755366  553036.0\n",
       "62421   209169   249603  162892.0\n",
       "62422   209171    55323   79513.0"
      ]
     },
     "execution_count": 25,
     "metadata": {},
     "output_type": "execute_result"
    }
   ],
   "source": [
    "links.tail()"
   ]
  },
  {
   "cell_type": "markdown",
   "metadata": {},
   "source": [
    "#### 1. 一共有多少不同的用户"
   ]
  },
  {
   "cell_type": "code",
   "execution_count": 28,
   "metadata": {},
   "outputs": [],
   "source": [
    "data1 = tags.append(ratings)['userId'] #合并两个含有用户信息的表"
   ]
  },
  {
   "cell_type": "code",
   "execution_count": 29,
   "metadata": {},
   "outputs": [
    {
     "name": "stdout",
     "output_type": "stream",
     "text": [
      "一共有162541个不同的用户\n"
     ]
    }
   ],
   "source": [
    "print('一共有%d个不同的用户'%len(data1.drop_duplicates())) # 去重"
   ]
  },
  {
   "cell_type": "markdown",
   "metadata": {},
   "source": [
    "#### 2. 一共有多少不同的电影"
   ]
  },
  {
   "cell_type": "code",
   "execution_count": 30,
   "metadata": {},
   "outputs": [
    {
     "name": "stdout",
     "output_type": "stream",
     "text": [
      "一共有62423个不同的电影\n"
     ]
    }
   ],
   "source": [
    "print('一共有%d个不同的电影'%len(movies['movieId'].drop_duplicates())) "
   ]
  },
  {
   "cell_type": "markdown",
   "metadata": {},
   "source": [
    "#### 3.一共有多少不同的电影种类"
   ]
  },
  {
   "cell_type": "code",
   "execution_count": 31,
   "metadata": {},
   "outputs": [
    {
     "name": "stdout",
     "output_type": "stream",
     "text": [
      "一共有20不同的电影种类\n"
     ]
    }
   ],
   "source": [
    "temp_list=movies['genres'].str.split(\"|\").tolist()\n",
    "print('一共有%d不同的电影种类'%len(list(set([i for j in temp_list for i in j ]))))"
   ]
  },
  {
   "cell_type": "markdown",
   "metadata": {},
   "source": [
    "#### 4. 一共有多少电影没有外部链接"
   ]
  },
  {
   "cell_type": "code",
   "execution_count": 39,
   "metadata": {},
   "outputs": [
    {
     "name": "stdout",
     "output_type": "stream",
     "text": [
      "一共有0部电影没有外部链接\n"
     ]
    }
   ],
   "source": [
    "print('一共有%d部电影没有外部链接'%(len(movies['movieId'].drop_duplicates())-len(links['movieId'].drop_duplicates())))"
   ]
  },
  {
   "cell_type": "markdown",
   "metadata": {},
   "source": [
    "#### 5. 2018年一共有多少人进行过电影评分"
   ]
  },
  {
   "cell_type": "code",
   "execution_count": 42,
   "metadata": {},
   "outputs": [],
   "source": [
    "#时间戳转换函数\n",
    "def tim(stamp):  \n",
    "    timeArray = time.localtime(stamp)\n",
    "    otherStyleTime = time.strftime(\"%Y\",timeArray)\n",
    "    return otherStyleTime"
   ]
  },
  {
   "cell_type": "code",
   "execution_count": 43,
   "metadata": {},
   "outputs": [],
   "source": [
    "ratings['timestamp']=ratings['timestamp'].apply(tim)"
   ]
  },
  {
   "cell_type": "code",
   "execution_count": 45,
   "metadata": {},
   "outputs": [
    {
     "name": "stdout",
     "output_type": "stream",
     "text": [
      "2018年一共有11999人进行过电影评分\n"
     ]
    }
   ],
   "source": [
    "print('2018年一共有%d人进行过电影评分'%(len(ratings[ratings.timestamp=='2018'].drop_duplicates(['userId']))))"
   ]
  }
 ],
 "metadata": {
  "kernelspec": {
   "display_name": "Python 3",
   "language": "python",
   "name": "python3"
  },
  "language_info": {
   "codemirror_mode": {
    "name": "ipython",
    "version": 3
   },
   "file_extension": ".py",
   "mimetype": "text/x-python",
   "name": "python",
   "nbconvert_exporter": "python",
   "pygments_lexer": "ipython3",
   "version": "3.7.6"
  }
 },
 "nbformat": 4,
 "nbformat_minor": 2
}
