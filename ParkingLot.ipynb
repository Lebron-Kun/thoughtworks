{
 "cells": [
  {
   "cell_type": "code",
   "execution_count": 1,
   "metadata": {},
   "outputs": [],
   "source": [
    "import uuid"
   ]
  },
  {
   "cell_type": "code",
   "execution_count": 2,
   "metadata": {},
   "outputs": [],
   "source": [
    "# 构造一个车\n",
    "class Car:\n",
    "    def __init__(self, name): \n",
    "        self.name = name\n",
    "\n",
    "    def get_name(self):\n",
    "        return self.name"
   ]
  },
  {
   "cell_type": "markdown",
   "metadata": {},
   "source": [
    "#### 1、构造停车场"
   ]
  },
  {
   "cell_type": "code",
   "execution_count": 3,
   "metadata": {},
   "outputs": [],
   "source": [
    "class ParkingLot:\n",
    "    def __init__(self, capacity):\n",
    "        # todo: 构造停车场所需的字段\n",
    "        self.capacity = capacity\n",
    "        self.cars = []          # 存储汽车\n",
    "        self.tickets = []         # 存储车票\n",
    "\n",
    "    def park_car(self, car: Car):\n",
    "        # todo: 实现停车功能，成功停车后返回一个不重复的物体（object/uuid/……）作为停车票\n",
    "        # 判断是否能够停车\n",
    "        if self.capacity <= len(self.cars):\n",
    "            raise Exception(\"该停车场已经没有空位！\")\n",
    "        else:\n",
    "            self.cars.append(car)\n",
    "            uuid_ticket = uuid.uuid4()\n",
    "            self.tickets.append(uuid_ticket)\n",
    "            return uuid_ticket\n",
    "\n",
    "    def take_car(self, ticket):\n",
    "        # todo: 实现通过车票取车的功能\n",
    "        if len(self.cars) == 0:\n",
    "            raise Exception(\"该停车场现在没有停放车辆！\")\n",
    "        if ticket not in self.tickets:\n",
    "            raise Exception(\"非法车票！\")\n",
    "        else:\n",
    "            index = self.tickets.index(ticket)\n",
    "            self.tickets.remove(ticket)\n",
    "            return self.cars.pop(index)\n",
    "\n",
    "\n",
    "if __name__ == \"__main__\":\n",
    "    parking_lot = ParkingLot(1)\n",
    "    car = Car('bob')\n",
    "    ticket = parking_lot.park_car(car)\n",
    "    car = parking_lot.take_car(ticket)"
   ]
  },
  {
   "cell_type": "markdown",
   "metadata": {},
   "source": [
    "#### 2、停车小弟"
   ]
  },
  {
   "cell_type": "code",
   "execution_count": 5,
   "metadata": {},
   "outputs": [
    {
     "name": "stdout",
     "output_type": "stream",
     "text": [
      "[<__main__.Car object at 0x00000217FF84C488>]\n",
      "[<__main__.Car object at 0x00000217FF7A8AC8>, <__main__.Car object at 0x00000217FF84C4C8>]\n",
      "f0ee4ddb-3cc9-4fb5-ad0d-4d3192a2fcea\n",
      "<__main__.Car object at 0x00000217FF84C4C8>\n"
     ]
    }
   ],
   "source": [
    "class ParkingBoy:\n",
    "    def __init__(self, name):\n",
    "        self.name = name\n",
    "        \n",
    "    def park_car(self, car, parkingLotList):\n",
    "        # 停车成功标志\n",
    "        flag = False\n",
    "        for parkingLot in parkingLotList:\n",
    "            if parkingLot.capacity <= len(parkingLot.cars):\n",
    "                continue\n",
    "            else:\n",
    "                # 返回车票\n",
    "                return parkingLot.park_car(car)\n",
    "                flag = True\n",
    "                break\n",
    "        # 考虑所有停车场都无空位的情况，抛出异常\n",
    "        if not flag:\n",
    "            raise Exception(\"所有停车场都已经没有空位！\")\n",
    "    \n",
    "    def take_car(self, ticket, parkingLotList):\n",
    "        # 取车成功标志\n",
    "        flag = False\n",
    "        for parkingLot in parkingLotList:\n",
    "            if ticket not in parkingLot.tickets:\n",
    "                continue\n",
    "            else:\n",
    "                # 返回汽车\n",
    "                return parkingLot.take_car(ticket)\n",
    "                flag = True\n",
    "                break\n",
    "        # 考虑所有停车场都无该车票的情况，抛出异常\n",
    "        if not flag:\n",
    "            raise Exception(\"所有停车场都无此车票！\")         \n",
    "\n",
    "\n",
    "if __name__ == \"__main__\":\n",
    "    parking_boy = ParkingBoy('bob')\n",
    "    parking_lot = ParkingLot(1)\n",
    "    parking_lot1 = ParkingLot(2)\n",
    "    car = Car('a')\n",
    "    car1 = Car('b')\n",
    "    car2 = Car('c')\n",
    "    car3 = Car('d')\n",
    "    ticket = parking_boy.park_car(car, [parking_lot, parking_lot1])\n",
    "    ticket1 = parking_boy.park_car(car1, [parking_lot, parking_lot1])\n",
    "    ticket2 = parking_boy.park_car(car2, [parking_lot, parking_lot1])\n",
    "    print(parking_lot.cars)\n",
    "    print(parking_lot1.cars)\n",
    "    print(ticket2)\n",
    "    print(parking_boy.take_car(ticket2, [parking_lot, parking_lot1]))"
   ]
  },
  {
   "cell_type": "markdown",
   "metadata": {},
   "source": [
    "#### 3、聪明的停车小弟"
   ]
  },
  {
   "cell_type": "code",
   "execution_count": 6,
   "metadata": {},
   "outputs": [
    {
     "name": "stdout",
     "output_type": "stream",
     "text": [
      "['a', 'b']\n",
      "['c']\n"
     ]
    }
   ],
   "source": [
    "class SmartParkingBoy(ParkingBoy):\n",
    "    def __init__(self, name):\n",
    "        super().__init__(name)\n",
    "\n",
    "    # 重写停车方法\n",
    "    def park_car(self, car, parkingLotList):\n",
    "        # 求出所有停车场的空车位个数\n",
    "        parkingLot_free_num_list = [parkingLot.capacity - len(parkingLot.cars) for parkingLot in parkingLotList]\n",
    "        if sum(parkingLot_free_num_list) <= 0:\n",
    "            raise Exception(\"所有停车场都已经没有空位！\")\n",
    "        else:\n",
    "            max_index = parkingLot_free_num_list.index(max(parkingLot_free_num_list))\n",
    "            parkingLot = parkingLotList[max_index]\n",
    "            # 返回车票\n",
    "            return parkingLot.park_car(car)\n",
    "\n",
    "if __name__ == \"__main__\":\n",
    "    smartParkingBoy = SmartParkingBoy(\"tom\")\n",
    "    parking_lot = ParkingLot(3)\n",
    "    parking_lot1 = ParkingLot(2)\n",
    "    parking_lot_list = [parking_lot, parking_lot1]\n",
    "    car = Car('a')\n",
    "    car1 = Car('b')\n",
    "    car2 = Car('c')\n",
    "    parking_lot.park_car(car)\n",
    "    parking_lot.park_car(car1)\n",
    "    smartParkingBoy.park_car(car2,parking_lot_list)\n",
    "    print([car.get_name() for car in parking_lot.cars])\n",
    "    print([car.get_name() for car in parking_lot1.cars])"
   ]
  },
  {
   "cell_type": "markdown",
   "metadata": {},
   "source": [
    "#### 4、超级停车小弟"
   ]
  },
  {
   "cell_type": "code",
   "execution_count": 7,
   "metadata": {},
   "outputs": [
    {
     "name": "stdout",
     "output_type": "stream",
     "text": [
      "['a', 'd']\n",
      "['b', 'c']\n"
     ]
    }
   ],
   "source": [
    "class SuperParkingBoy(ParkingBoy):\n",
    "    def __init__(self, name):\n",
    "        super().__init__(name)\n",
    "\n",
    "    # 重写停车方法\n",
    "    def park_car(self, car, parkingLotList):\n",
    "        # 求出所有停车场的空置率\n",
    "        parkingLot_free_per_list = [(parkingLot.capacity-len(parkingLot.cars))/parkingLot.capacity for parkingLot in parkingLotList]\n",
    "        if sum(parkingLot_free_per_list) <= 0:\n",
    "            raise Exception(\"所有停车场都已经没有空位！\")\n",
    "        else:\n",
    "            max_index = parkingLot_free_per_list.index(max(parkingLot_free_per_list))\n",
    "            parkingLot = parkingLotList[max_index]\n",
    "            # 返回车票\n",
    "            return parkingLot.park_car(car)\n",
    "\n",
    "if __name__ == \"__main__\":\n",
    "    superParkingBoy = SuperParkingBoy(\"tom\")\n",
    "    parking_lot = ParkingLot(2)\n",
    "    parking_lot1 = ParkingLot(3)\n",
    "    parking_lot_list = [parking_lot, parking_lot1]\n",
    "    car = Car('a')\n",
    "    car1 = Car('b')\n",
    "    car2 = Car('c')\n",
    "    car3 = Car('d')\n",
    "    parking_lot.park_car(car)\n",
    "    parking_lot1.park_car(car1)\n",
    "    parking_lot1.park_car(car2)\n",
    "    superParkingBoy.park_car(car3,parking_lot_list)\n",
    "    print([car.get_name() for car in parking_lot.cars])\n",
    "    print([car.get_name() for car in parking_lot1.cars])"
   ]
  },
  {
   "cell_type": "markdown",
   "metadata": {},
   "source": [
    "#### 5、停车场经理"
   ]
  },
  {
   "cell_type": "code",
   "execution_count": 8,
   "metadata": {},
   "outputs": [
    {
     "name": "stdout",
     "output_type": "stream",
     "text": [
      "['a']\n",
      "['b', 'c']\n"
     ]
    }
   ],
   "source": [
    "class ParkingManager(ParkingBoy):\n",
    "    def __init__(self, name):\n",
    "        super().__init__(name)\n",
    "\n",
    "    # 管理停车仔停车\n",
    "    def manage(self, parkingBoy:ParkingBoy, car, parkingLotList):\n",
    "        parkingBoy.park_car(car, parkingLotList)\n",
    "\n",
    "    # 自己停车，和停车仔一样顺序停车\n",
    "    def park_car(self, car, parkingLotList):\n",
    "        # 停车成功标志\n",
    "        flag = False\n",
    "        for parkingLot in parkingLotList:\n",
    "            if parkingLot.capacity <= len(parkingLot.cars):\n",
    "                continue\n",
    "            else:\n",
    "                # 返回车票\n",
    "                return parkingLot.park_car(car)\n",
    "                flag = True\n",
    "                break\n",
    "        # 考虑所有停车场都无空位的情况，抛出异常\n",
    "        if not flag:\n",
    "            raise Exception(\"所有停车场都已经没有空位！\")\n",
    "\n",
    "\n",
    "if __name__ == \"__main__\":\n",
    "    parkingManager = ParkingManager(\"tom\")\n",
    "    smartParkingBoy = SmartParkingBoy(\"bob\")\n",
    "    superParkingBoy = SuperParkingBoy(\"anna\")\n",
    "    parking_lot = ParkingLot(2)\n",
    "    parking_lot1 = ParkingLot(3)\n",
    "    parking_lot_list = [parking_lot, parking_lot1]\n",
    "    car = Car('a')\n",
    "    car1 = Car('b')\n",
    "    car2 = Car('c')\n",
    "    car3 = Car('d')\n",
    "    parkingManager.park_car(car, parking_lot_list)\n",
    "    parkingManager.manage(smartParkingBoy, car1, parking_lot_list)\n",
    "    parkingManager.manage(superParkingBoy, car2, parking_lot_list)\n",
    "    print([car.get_name() for car in parking_lot.cars])\n",
    "    print([car.get_name() for car in parking_lot1.cars])"
   ]
  }
 ],
 "metadata": {
  "kernelspec": {
   "display_name": "Python 3",
   "language": "python",
   "name": "python3"
  },
  "language_info": {
   "codemirror_mode": {
    "name": "ipython",
    "version": 3
   },
   "file_extension": ".py",
   "mimetype": "text/x-python",
   "name": "python",
   "nbconvert_exporter": "python",
   "pygments_lexer": "ipython3",
   "version": "3.7.6"
  }
 },
 "nbformat": 4,
 "nbformat_minor": 4
}
